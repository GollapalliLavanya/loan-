{
  "nbformat": 4,
  "nbformat_minor": 0,
  "metadata": {
    "colab": {
      "provenance": [],
      "authorship_tag": "ABX9TyNRiQHmP7z3pK9pcPddWTs2",
      "include_colab_link": true
    },
    "kernelspec": {
      "name": "python3",
      "display_name": "Python 3"
    },
    "language_info": {
      "name": "python"
    }
  },
  "cells": [
    {
      "cell_type": "markdown",
      "metadata": {
        "id": "view-in-github",
        "colab_type": "text"
      },
      "source": [
        "<a href=\"https://colab.research.google.com/github/GollapalliLavanya/loan-/blob/main/Loan_Default_Prediction.ipynb\" target=\"_parent\"><img src=\"https://colab.research.google.com/assets/colab-badge.svg\" alt=\"Open In Colab\"/></a>"
      ]
    },
    {
      "cell_type": "code",
      "source": [
        "# Import necessary libraries\n",
        "import pandas as pd\n",
        "import numpy as np\n",
        "from sklearn.model_selection import train_test_split\n",
        "from sklearn.ensemble import RandomForestClassifier\n",
        "from sklearn.metrics import accuracy_score, precision_score, recall_score, f1_score, confusion_matrix, classification_report\n",
        "from sklearn.preprocessing import StandardScaler"
      ],
      "metadata": {
        "id": "9ic4FaZbpyeD"
      },
      "execution_count": null,
      "outputs": []
    },
    {
      "cell_type": "code",
      "source": [
        "# Step 1: Create or Load a Dataset\n",
        "# Simulated dataset for demonstration\n",
        "data = {\n",
        "    \"Credit_Score\": [750, 680, 610, 720, 580, 640, 800, 500, 670, 710, 550, 620],\n",
        "    \"Income\": [60000, 40000, 30000, 80000, 20000, 35000, 90000, 15000, 45000, 50000, 22000, 34000],\n",
        "    \"Loan_Amount\": [15000, 20000, 10000, 30000, 5000, 15000, 25000, 4000, 12000, 18000, 7000, 14000],\n",
        "    \"Loan_Term\": [36, 60, 24, 48, 12, 36, 48, 12, 36, 48, 24, 36],\n",
        "    \"Debt_to_Income\": [30, 45, 50, 20, 60, 40, 10, 70, 35, 25, 55, 42],\n",
        "    \"Payment_History\": [95, 80, 70, 98, 60, 75, 99, 50, 85, 92, 65, 78],\n",
        "    \"Default\": [0, 1, 1, 0, 1, 1, 0, 1, 0, 0, 1, 1]  # Target variable (0 = No Default, 1 = Default)\n",
        "}\n",
        "\n",
        "df = pd.DataFrame(data)"
      ],
      "metadata": {
        "id": "CbkvPcA5qQkx"
      },
      "execution_count": null,
      "outputs": []
    },
    {
      "cell_type": "code",
      "source": [
        "# Step 2: Preprocess the Data\n",
        "# Features and target variable\n",
        "X = df.drop(\"Default\", axis=1)  # Features\n",
        "y = df[\"Default\"]  # Target\n",
        "\n",
        "# Standardize the features\n",
        "scaler = StandardScaler()\n",
        "X_scaled = scaler.fit_transform(X)\n",
        "\n",
        "# Train-test split\n",
        "X_train, X_test, y_train, y_test = train_test_split(X_scaled, y, test_size=0.3, random_state=42)"
      ],
      "metadata": {
        "id": "jO0migJw64su"
      },
      "execution_count": null,
      "outputs": []
    },
    {
      "cell_type": "code",
      "source": [
        "# Step 3: Train a Machine Learning Model\n",
        "model = RandomForestClassifier(random_state=42, n_estimators=100)\n",
        "model.fit(X_train, y_train)\n",
        "\n",
        "# Step 4: Make Predictions\n",
        "y_pred = model.predict(X_test)"
      ],
      "metadata": {
        "id": "PbsO4jWI6_W7"
      },
      "execution_count": null,
      "outputs": []
    },
    {
      "cell_type": "code",
      "source": [
        "# Step 5: Evaluate the Model\n",
        "accuracy = accuracy_score(y_test, y_pred)\n",
        "precision = precision_score(y_test, y_pred)\n",
        "recall = recall_score(y_test, y_pred)\n",
        "f1 = f1_score(y_test, y_pred)\n",
        "\n",
        "print(\"Model Evaluation Metrics:\")\n",
        "print(f\"Accuracy: {accuracy:.2f}\")\n",
        "print(f\"Precision: {precision:.2f}\")\n",
        "print(f\"Recall: {recall:.2f}\")\n",
        "print(f\"F1 Score: {f1:.2f}\\n\")\n",
        "\n",
        "print(\"Classification Report:\")\n",
        "print(classification_report(y_test, y_pred))\n",
        "\n",
        "# Confusion Matrix\n",
        "conf_matrix = confusion_matrix(y_test, y_pred)\n",
        "print(\"Confusion Matrix:\")\n",
        "print(conf_matrix)"
      ],
      "metadata": {
        "colab": {
          "base_uri": "https://localhost:8080/"
        },
        "id": "jW2gV6pJ7DpD",
        "outputId": "9750ef10-6432-4efe-ede3-c84ff50e89ab"
      },
      "execution_count": null,
      "outputs": [
        {
          "output_type": "stream",
          "name": "stdout",
          "text": [
            "Model Evaluation Metrics:\n",
            "Accuracy: 0.75\n",
            "Precision: 0.50\n",
            "Recall: 1.00\n",
            "F1 Score: 0.67\n",
            "\n",
            "Classification Report:\n",
            "              precision    recall  f1-score   support\n",
            "\n",
            "           0       1.00      0.67      0.80         3\n",
            "           1       0.50      1.00      0.67         1\n",
            "\n",
            "    accuracy                           0.75         4\n",
            "   macro avg       0.75      0.83      0.73         4\n",
            "weighted avg       0.88      0.75      0.77         4\n",
            "\n",
            "Confusion Matrix:\n",
            "[[2 1]\n",
            " [0 1]]\n"
          ]
        }
      ]
    },
    {
      "cell_type": "code",
      "source": [
        "# Step 6: Analyze Feature Importance\n",
        "importances = model.feature_importances_\n",
        "feature_names = df.drop(\"Default\", axis=1).columns\n",
        "importance_df = pd.DataFrame({\"Feature\": feature_names, \"Importance\": importances}).sort_values(by=\"Importance\", ascending=False)\n",
        "print(\"\\nFeature Importance:\")\n",
        "print(importance_df)\n",
        "\n"
      ],
      "metadata": {
        "colab": {
          "base_uri": "https://localhost:8080/"
        },
        "id": "agz_DAnd7H5i",
        "outputId": "125ffa2e-a11e-4956-ed02-1446ec65812c"
      },
      "execution_count": null,
      "outputs": [
        {
          "output_type": "stream",
          "name": "stdout",
          "text": [
            "\n",
            "Feature Importance:\n",
            "           Feature  Importance\n",
            "1           Income    0.229885\n",
            "4   Debt_to_Income    0.195402\n",
            "0     Credit_Score    0.183908\n",
            "5  Payment_History    0.160920\n",
            "2      Loan_Amount    0.137931\n",
            "3        Loan_Term    0.091954\n"
          ]
        }
      ]
    },
    {
      "cell_type": "code",
      "source": [
        "# Plot Feature Importance (optional)\n",
        "import matplotlib.pyplot as plt\n",
        "\n",
        "plt.figure(figsize=(8, 6))\n",
        "plt.barh(importance_df[\"Feature\"], importance_df[\"Importance\"], color=\"skyblue\")\n",
        "plt.xlabel(\"Importance Score\")\n",
        "plt.ylabel(\"Features\")\n",
        "plt.title(\"Feature Importance in Loan Default Prediction\")\n",
        "plt.gca().invert_yaxis()\n",
        "plt.show()"
      ],
      "metadata": {
        "colab": {
          "base_uri": "https://localhost:8080/",
          "height": 564
        },
        "id": "frokG7wy-WL1",
        "outputId": "a0abeed1-74d1-4a65-e0dc-dcd58b6e7086"
      },
      "execution_count": null,
      "outputs": [
        {
          "output_type": "display_data",
          "data": {
            "text/plain": [
              "<Figure size 800x600 with 1 Axes>"
            ],
            "image/png": "[encoded data removed]"
          },
          "metadata": {}
        }
      ]
    }
  ]
}